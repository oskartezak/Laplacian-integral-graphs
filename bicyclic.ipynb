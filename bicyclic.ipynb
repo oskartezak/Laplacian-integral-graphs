{
 "cells": [
  {
   "cell_type": "markdown",
   "metadata": {},
   "source": [
    "# Neusmerjeni dvociklični grafi nižjih redov"
   ]
  },
  {
   "cell_type": "code",
   "execution_count": 3,
   "metadata": {
    "vscode": {
     "languageId": "sage"
    }
   },
   "outputs": [],
   "source": [
    "import networkx as nx\n",
    "import matplotlib.pyplot as plt\n",
    "from itertools import combinations, product\n",
    "import numpy as np"
   ]
  },
  {
   "cell_type": "code",
   "execution_count": 18,
   "metadata": {
    "vscode": {
     "languageId": "sage"
    }
   },
   "outputs": [],
   "source": [
    "# Preverimo ali je nek graf Laplacov integer graf\n",
    "def is_laplacian_integer_graph(G):\n",
    "    laplace = nx.laplacian_matrix(G).toarray()  # Laplacova matrika v torray formatu (za lažje računanje)\n",
    "    eigenvalues = np.linalg.eigvals(laplace) # Lastne vrednosti\n",
    "    return all(np.isclose(lv, np.round(lv)) for lv in eigenvalues)  # Aproksimacija zaradi numeričnege računanja lastnih vrednosti"
   ]
  },
  {
   "cell_type": "code",
   "execution_count": null,
   "metadata": {
    "vscode": {
     "languageId": "sage"
    }
   },
   "outputs": [],
   "source": [
    "def generate_graphs_with_two_cycles(n):\n",
    "    graphs = []\n",
    "\n",
    "    if n < 6:  \n",
    "        return graphs\n",
    "\n",
    "    # Dolžine ciklov\n",
    "    for k1 in range(3, n - 2):  \n",
    "        for k2 in range(3, n - k1 + 1):\n",
    "            # Vozlišča ciklov\n",
    "            cycle1_nodes = list(range(k1))\n",
    "            cycle2_nodes = list(range(k1 , k1 + k2))\n",
    "            cycle1_nodes_zlepek = list(range(k1))\n",
    "            cycle2_nodes_zlepek = list(range(k1 - 1, k1 + k2 - 1))\n",
    "\n",
    "            # Povezave za cikla\n",
    "            graph = nx.Graph()\n",
    "            graph_zlepek = nx.Graph()\n",
    "            \n",
    "            graph.add_edges_from([(cycle1_nodes[i], cycle1_nodes[(i + 1) % k1]) for i in range(k1)]) \n",
    "            graph.add_edges_from([(cycle2_nodes[i], cycle2_nodes[(i + 1) % k2]) for i in range(k2)]) \n",
    "            graph_zlepek.add_edges_from([(cycle1_nodes_zlepek[i], cycle1_nodes_zlepek[(i + 1) % k1]) for i in range(k1)]) \n",
    "            graph_zlepek.add_edges_from([(cycle2_nodes_zlepek[i], cycle2_nodes_zlepek[(i + 1) % k2]) for i in range(k2)])\n",
    "\n",
    "            remaining_nodes = list(range(k1 + k2 , n)) # Preostala vozlišča\n",
    "            remaining_nodes_zlepek = list(range(k1 + k2 - 1 , n))\n",
    "\n",
    "            # Ustvarjanje povezav med cikloma\n",
    "            for num_edges in range(len(remaining_nodes) + 1): \n",
    "                for edges in combinations(remaining_nodes, num_edges):\n",
    "                    new_graph = graph.copy()\n",
    "\n",
    "                    # Dodajanje povezav med cikloma\n",
    "                    if edges:  # Če imamo izbrane povezave\n",
    "                        if len(edges) == 1:\n",
    "                            new_graph.add_edge(cycle1_nodes[0], edges[0])  \n",
    "                            new_graph.add_edge(cycle2_nodes[0], edges[0])\n",
    "                        else: \n",
    "                            prev_edge = 0\n",
    "                            for edge in edges:\n",
    "                                if edge == edges[0]:\n",
    "                                    prev_edge = edge\n",
    "                                    continue\n",
    "                                new_graph.add_edge(edge, prev_edge)\n",
    "                                prev_edge = edge\n",
    "                            new_graph.add_edge(cycle1_nodes[0], edges[0])  \n",
    "                            new_graph.add_edge(cycle2_nodes[0], prev_edge)    \n",
    "                                 \n",
    "                    else:\n",
    "                        # Brez povezav, samo stik med cikloma\n",
    "                        new_graph.add_edge(cycle1_nodes[0], cycle2_nodes[0])\n",
    "\n",
    "                    # Dodajanje drevesnih povezav na cikla\n",
    "                    for i in range(len(remaining_nodes) + 1):\n",
    "                        for tree_edges in combinations(product(range(k1 + k2 + num_edges + i), remaining_nodes), len(remaining_nodes)):\n",
    "                            tree_graph = nx.Graph()\n",
    "                            tree_graph.add_edges_from(tree_edges)\n",
    "\n",
    "                            full_graph = new_graph.copy()\n",
    "                            full_graph.add_edges_from(tree_graph.edges)\n",
    "\n",
    "                            # Pogoji\n",
    "                            if nx.is_connected(full_graph) and len(list(nx.cycle_basis(full_graph))) == 2 and full_graph.number_of_nodes() == n:\n",
    "                                if not any(nx.is_isomorphic(full_graph, g) for g in graphs):\n",
    "                                    graphs.append(full_graph)\n",
    "\n",
    "            for i in range(len(remaining_nodes_zlepek) + 1):\n",
    "                        for tree_edges in combinations(product(range(k1 + k2 + i - 1), remaining_nodes_zlepek), len(remaining_nodes_zlepek)):\n",
    "                            tree_graph = nx.Graph()\n",
    "                            tree_graph.add_edges_from(tree_edges)\n",
    "\n",
    "                            full_graph = new_graph.copy()\n",
    "                            full_graph.add_edges_from(tree_graph.edges)\n",
    "\n",
    "\n",
    "                            # Pogoji\n",
    "                            if nx.is_connected(full_graph) and len(list(nx.cycle_basis(full_graph))) == 2 and full_graph.number_of_nodes() == n:\n",
    "                                if not any(nx.is_isomorphic(full_graph, g) for g in graphs):\n",
    "                                    graphs.append(full_graph)                    \n",
    "            \n",
    "\n",
    "\n",
    "    return graphs"
   ]
  },
  {
   "cell_type": "markdown",
   "metadata": {},
   "source": [
    "### Primer za n=8"
   ]
  },
  {
   "cell_type": "code",
   "execution_count": 44,
   "metadata": {
    "vscode": {
     "languageId": "sage"
    }
   },
   "outputs": [
    {
     "name": "stdout",
     "output_type": "stream",
     "text": [
      "Število generiranih povezanih grafov z dvema cikloma za n = 8: 1\n"
     ]
    },
    {
     "data": {
      "image/png": "[encoded data removed]",
      "text/plain": [
       "<Figure size 500x500 with 1 Axes>"
      ]
     },
     "metadata": {},
     "output_type": "display_data"
    }
   ],
   "source": [
    "generate_graphs_with_two_cycles = generate_graphs_with_two_cycles(6)\n",
    "\n",
    "print(f\"Število generiranih povezanih grafov z dvema cikloma za n = 8: {len(generate_graphs_with_two_cycles)}\")\n",
    "\n",
    "for i, graph in enumerate(generate_graphs_with_two_cycles):\n",
    "    plt.figure(figsize = (5, 5))\n",
    "    nx.draw(graph, with_labels = True, node_color = 'gold' , node_size = 500, font_size = 15, font_color = 'black', font_weight = 'bold', edge_color = 'gray')\n",
    "    plt.title(f'Graf {i + 1} z dvema cikloma')\n",
    "    plt.show()"
   ]
  },
  {
   "cell_type": "code",
   "execution_count": 6,
   "metadata": {
    "vscode": {
     "languageId": "sage"
    }
   },
   "outputs": [],
   "source": [
    "def bicycle_laplacian_integer_graph(n):\n",
    "    graphs_with_two_cycles = generate_graphs_with_two_cycles(n)\n",
    "    laplacian_graphs = [graph for graph in graphs_with_two_cycles if is_laplacian_integer_graph(graph)]\n",
    "\n",
    "    print(f\"Total graphs with two connected cycles: {len(graphs_with_two_cycles)}\")\n",
    "    print(f\"Total Laplacian integer graphs found: {len(laplacian_graphs)}\")\n",
    "\n",
    "    for i, graph in enumerate(laplacian_graphs):\n",
    "        print(f\"Laplacian Graph {i + 1}:\")\n",
    "        print(\"Edges:\", list(graph.edges()))\n",
    "        plt.figure()\n",
    "        pos = nx.spring_layout(graph)\n",
    "        nx.draw(graph, pos, with_labels=True, node_color='gold', node_size=750, edge_color='gray')\n",
    "        plt.title(f\"Laplacian Graph {i + 1}\")\n",
    "        plt.show()"
   ]
  },
  {
   "cell_type": "code",
   "execution_count": 7,
   "metadata": {
    "vscode": {
     "languageId": "sage"
    }
   },
   "outputs": [
    {
     "name": "stdout",
     "output_type": "stream",
     "text": [
      "Total graphs with two connected cycles: 20\n",
      "Total Laplacian integer graphs found: 0\n"
     ]
    }
   ],
   "source": [
    "bicycle_laplacian_integer_graph(8)"
   ]
  }
 ],
 "metadata": {
  "kernelspec": {
   "display_name": "SageMath 10.4",
   "language": "sage",
   "name": "SageMath-10.4"
  },
  "language_info": {
   "codemirror_mode": {
    "name": "ipython",
    "version": 3
   },
   "file_extension": ".py",
   "mimetype": "text/x-python",
   "name": "python",
   "nbconvert_exporter": "python",
   "pygments_lexer": "ipython3",
   "version": "3.12.4"
  }
 },
 "nbformat": 4,
 "nbformat_minor": 2
}
